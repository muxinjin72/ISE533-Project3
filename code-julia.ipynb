{
 "cells": [
  {
   "cell_type": "code",
   "execution_count": 1,
   "metadata": {},
   "outputs": [],
   "source": [
    "using JuMP\n",
    "using Clp\n",
    "using Distributions\n",
    "using Random\n",
    "using CSV\n",
    "using DataFrames"
   ]
  },
  {
   "cell_type": "code",
   "execution_count": 2,
   "metadata": {},
   "outputs": [
    {
     "data": {
      "text/plain": [
       "0.1841"
      ]
     },
     "execution_count": 2,
     "metadata": {},
     "output_type": "execute_result"
    }
   ],
   "source": [
    "beta0 = 3.1470\n",
    "beta1 = 0.0459\n",
    "beta2 = 0.1841"
   ]
  },
  {
   "cell_type": "code",
   "execution_count": 2,
   "metadata": {},
   "outputs": [
    {
     "data": {
      "text/plain": [
       "0.1812"
      ]
     },
     "execution_count": 2,
     "metadata": {},
     "output_type": "execute_result"
    }
   ],
   "source": [
    "beta0 = 3.8532\n",
    "beta1 = 0.0442\n",
    "beta2 = 0.1812"
   ]
  },
  {
   "cell_type": "code",
   "execution_count": 4,
   "metadata": {},
   "outputs": [
    {
     "data": {
      "text/plain": [
       "0.17162406"
      ]
     },
     "execution_count": 4,
     "metadata": {},
     "output_type": "execute_result"
    }
   ],
   "source": [
    "beta0 = 4.528051767181878\n",
    "beta1 = 0.04125646 \n",
    "beta2 = 0.17162406"
   ]
  },
  {
   "cell_type": "markdown",
   "metadata": {},
   "source": [
    "### Linear Programming"
   ]
  },
  {
   "cell_type": "code",
   "execution_count": 6,
   "metadata": {},
   "outputs": [
    {
     "name": "stdout",
     "output_type": "stream",
     "text": [
      "value.(x1) = 199.99999999999997\n",
      "value.(x2) = 0.0\n",
      "objective_value(model) = 42.33803130154563\n"
     ]
    },
    {
     "data": {
      "text/plain": [
       "42.33803130154563"
      ]
     },
     "execution_count": 6,
     "metadata": {},
     "output_type": "execute_result"
    },
    {
     "name": "stdout",
     "output_type": "stream",
     "text": [
      "Coin0506I Presolve 4 (-2) rows, 4 (0) columns and 10 (-2) elements\n",
      "Clp0006I 0  Obj -0.07 Dual inf 1.567538 (2)\n",
      "Clp0006I 3  Obj 42.338031\n",
      "Clp0000I Optimal - objective value 42.338031\n",
      "Coin0511I After Postsolve, objective 42.338031, infeasibilities - dual 0 (0), primal 0 (0)\n",
      "Clp0032I Optimal objective 42.3380313 - 3 iterations time 0.002, Presolve 0.00\n"
     ]
    }
   ],
   "source": [
    "# Build model\n",
    "model = Model(Clp.Optimizer)\n",
    "\n",
    "@variables(model, begin\n",
    "# Stage 1 Variables\n",
    "    0.7<=x1<=296.4\n",
    "    0<=x2<=49.6\n",
    "# Stage 2 Variables\n",
    "    yA>=0\n",
    "    yB>=0\n",
    "end)\n",
    "\n",
    "# constraint\n",
    "@constraint(model, b, x1+x2 <= 200)\n",
    "@constraint(model, c, x1-0.5*x2 >= 0)\n",
    "@constraint(model, d, yA <= 8)\n",
    "@constraint(model, e, 2*yB <= 24)\n",
    "@constraint(model, f, 3*yA+2*yB <= 36)\n",
    "@constraint(model, g, -beta1*x1-beta2*x2+yA+yB <= beta0)\n",
    "\n",
    "@objective(model, Max, -0.1*x1-0.5*x2+3*yA+5*yB)\n",
    "\n",
    "# Optimization\n",
    "optimize!(model)\n",
    "\n",
    "# Assert problem is solved\n",
    "# @assert(termination_status(model) == OPTIMAL)\n",
    "\n",
    "@show value.(x1)\n",
    "@show value.(x2)\n",
    "@show objective_value(model)"
   ]
  },
  {
   "cell_type": "markdown",
   "metadata": {},
   "source": [
    "### Stochastic Decomposition"
   ]
  },
  {
   "cell_type": "code",
   "execution_count": null,
   "metadata": {},
   "outputs": [],
   "source": [
    "ENV[\"CPLEX_STUDIO_BINARIES\"] = \"C:/Cplex/cplex/bin/x64_win64\"\n",
    "import Pkg\n",
    "Pkg.add(\"CPLEX\")\n",
    "Pkg.build(\"CPLEX\")"
   ]
  },
  {
   "cell_type": "code",
   "execution_count": 3,
   "metadata": {},
   "outputs": [],
   "source": [
    "using CPLEX\n",
    "using TwoSD"
   ]
  },
  {
   "cell_type": "code",
   "execution_count": 4,
   "metadata": {},
   "outputs": [
    {
     "data": {
      "text/plain": [
       "100-element Vector{Float64}:\n",
       "  1.442155908879112\n",
       " -2.023543306261276\n",
       " -3.0869473257074542\n",
       "  0.801840808517543\n",
       " -0.5259086789331775\n",
       " -5.349559902483894\n",
       " -0.022840695968245228\n",
       "  0.9325506498261902\n",
       "  0.872010514252465\n",
       " -2.1873194051951277\n",
       "  1.3541531692602735\n",
       " -0.010787994265751166\n",
       " -1.5010481438369645\n",
       "  ⋮\n",
       "  1.008961157088093\n",
       " -0.2828545064779284\n",
       "  0.9926275716909423\n",
       "  2.565406426682827\n",
       "  0.10247595682539412\n",
       "  0.8277552192856028\n",
       "  0.8505729580154977\n",
       "  0.4467636713809924\n",
       " -1.1521520476829092\n",
       "  0.00802943999837602\n",
       "  1.180706457833665\n",
       "  0.175610141324114"
      ]
     },
     "execution_count": 4,
     "metadata": {},
     "output_type": "execute_result"
    }
   ],
   "source": [
    "e_train_data = CSV.read(\"e_train.csv\", DataFrame)\n",
    "e_train = e_train_data[:,2]"
   ]
  },
  {
   "cell_type": "code",
   "execution_count": 6,
   "metadata": {},
   "outputs": [
    {
     "ename": "",
     "evalue": "",
     "output_type": "error",
     "traceback": [
      "\u001b[1;31mCanceled future for execute_request message before replies were done"
     ]
    },
    {
     "ename": "",
     "evalue": "",
     "output_type": "error",
     "traceback": [
      "\u001b[1;31mThe Kernel crashed while executing code in the the current cell or a previous cell. Please review the code in the cell(s) to identify a possible cause of the failure. Click <a href='https://aka.ms/vscodeJupyterKernelCrash'>here</a> for more info. View Jupyter <a href='command:jupyter.viewOutput'>log</a> for further details."
     ]
    }
   ],
   "source": [
    "model = direct_model(CPLEX.Optimizer())\n",
    "\n",
    "@variables(model, begin\n",
    "# Stage 1 Variables\n",
    "    x1>=0.7\n",
    "    x2>=0\n",
    "# Stage 2 Variables\n",
    "    yA>=0\n",
    "    yB>=0\n",
    "end)\n",
    "\n",
    "# constraint\n",
    "@constraint(model, b, x1+x2-200 <= 0)\n",
    "@constraint(model, c, -x1+0.5*x2 <= 0)\n",
    "@constraint(model, i1, x1<=296.4)\n",
    "@constraint(model, i2, x2<=49.6)\n",
    "\n",
    "@constraint(model, d, yA-8 <= 0)\n",
    "@constraint(model, e, 2*yB-24 <= 0)\n",
    "@constraint(model, f, 3*yA+2*yB-36 <= 0)\n",
    "@constraint(model, g, -beta1*x1-beta2*x2+yA+yB <= 0) #beta0\n",
    "\n",
    "@objective(model, Min, 0.1*x1+0.5*x2-3*yA-5*yB)\n",
    "\n",
    "split_position = Position(d, yA)\n",
    "r = Random.MersenneTwister(1234)\n",
    "function mystoc()\n",
    "    e = rand(r, e_train)\n",
    "    binding = [Position(g, \"RHS\") => e+beta0]\n",
    "    return OneRealization(binding)\n",
    "end\n",
    "\n",
    "user_mean = [beta0]\n",
    "\n",
    "solve_sd(model, split_position, user_mean, mystoc)"
   ]
  },
  {
   "cell_type": "code",
   "execution_count": null,
   "metadata": {},
   "outputs": [],
   "source": [
    "rand(r, e_train)"
   ]
  }
 ],
 "metadata": {
  "kernelspec": {
   "display_name": "Julia 1.8.1",
   "language": "julia",
   "name": "julia-1.8"
  },
  "language_info": {
   "file_extension": ".jl",
   "mimetype": "application/julia",
   "name": "julia",
   "version": "1.8.1"
  },
  "varInspector": {
   "cols": {
    "lenName": 16,
    "lenType": 16,
    "lenVar": 40
   },
   "kernels_config": {
    "python": {
     "delete_cmd_postfix": "",
     "delete_cmd_prefix": "del ",
     "library": "var_list.py",
     "varRefreshCmd": "print(var_dic_list())"
    },
    "r": {
     "delete_cmd_postfix": ") ",
     "delete_cmd_prefix": "rm(",
     "library": "var_list.r",
     "varRefreshCmd": "cat(var_dic_list()) "
    }
   },
   "types_to_exclude": [
    "module",
    "function",
    "builtin_function_or_method",
    "instance",
    "_Feature"
   ],
   "window_display": false
  }
 },
 "nbformat": 4,
 "nbformat_minor": 4
}
